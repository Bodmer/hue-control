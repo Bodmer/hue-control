{
 "cells": [
  {
   "cell_type": "code",
   "execution_count": 12,
   "metadata": {
    "scrolled": true
   },
   "outputs": [],
   "source": [
    "from phue import Bridge\n",
    "\n",
    "b = Bridge('192.168.1.2')\n",
    "\n",
    "# If the app is not registered and the button is not pressed, press the button and call connect() (this only needs to be run a single time)\n",
    "b.connect()\n",
    "\n",
    "# Get the bridge state (This returns the full dictionary that you can explore)\n",
    "details = b.get_api()\n"
   ]
  },
  {
   "cell_type": "code",
   "execution_count": 13,
   "metadata": {},
   "outputs": [
    {
     "data": {
      "text/plain": [
       "dict_keys(['lights', 'groups', 'config', 'schedules', 'scenes', 'rules', 'sensors', 'resourcelinks'])"
      ]
     },
     "execution_count": 13,
     "metadata": {},
     "output_type": "execute_result"
    }
   ],
   "source": [
    "details.keys()"
   ]
  },
  {
   "cell_type": "code",
   "execution_count": 14,
   "metadata": {},
   "outputs": [
    {
     "data": {
      "text/plain": [
       "{'state': {'on': True,\n",
       "  'bri': 254,\n",
       "  'hue': 4000,\n",
       "  'sat': 254,\n",
       "  'effect': 'none',\n",
       "  'xy': [0.6101, 0.3695],\n",
       "  'ct': 366,\n",
       "  'alert': 'none',\n",
       "  'colormode': 'hs',\n",
       "  'mode': 'homeautomation',\n",
       "  'reachable': False},\n",
       " 'swupdate': {'state': 'noupdates', 'lastinstall': '2020-12-07T04:07:04'},\n",
       " 'type': 'Extended color light',\n",
       " 'name': 'Living room lamp',\n",
       " 'modelid': 'LCT016',\n",
       " 'manufacturername': 'Signify Netherlands B.V.',\n",
       " 'productname': 'Hue color lamp',\n",
       " 'capabilities': {'certified': True,\n",
       "  'control': {'mindimlevel': 1000,\n",
       "   'maxlumen': 800,\n",
       "   'colorgamuttype': 'C',\n",
       "   'colorgamut': [[0.6915, 0.3083], [0.17, 0.7], [0.1532, 0.0475]],\n",
       "   'ct': {'min': 153, 'max': 500}},\n",
       "  'streaming': {'renderer': True, 'proxy': True}},\n",
       " 'config': {'archetype': 'sultanbulb',\n",
       "  'function': 'mixed',\n",
       "  'direction': 'omnidirectional',\n",
       "  'startup': {'mode': 'safety', 'configured': True}},\n",
       " 'uniqueid': '00:17:88:01:03:b0:df:a4-0b',\n",
       " 'swversion': '1.50.2_r30933',\n",
       " 'swconfigid': 'B8000037',\n",
       " 'productid': 'Philips-LCT016-1-A19ECLv5'}"
      ]
     },
     "execution_count": 14,
     "metadata": {},
     "output_type": "execute_result"
    }
   ],
   "source": [
    "b.get_light(3)"
   ]
  },
  {
   "cell_type": "code",
   "execution_count": 15,
   "metadata": {},
   "outputs": [
    {
     "data": {
      "text/plain": [
       "[[{'success': {'/lights/3/state/hue': 25000}}]]"
      ]
     },
     "execution_count": 15,
     "metadata": {},
     "output_type": "execute_result"
    }
   ],
   "source": [
    "b.set_light(3, 'hue', 25000)"
   ]
  },
  {
   "cell_type": "code",
   "execution_count": 21,
   "metadata": {},
   "outputs": [
    {
     "name": "stdout",
     "output_type": "stream",
     "text": [
      "Mary\n"
     ]
    }
   ],
   "source": [
    "# Set brightness of lamp 3 to max\n",
    "b.set_light(3, 'bri', 254)\n",
    "\n",
    "\n",
    "# You can also control multiple lamps by sending a list as lamp_id\n",
    "b.set_light( [2,4], 'on', True)\n",
    "\n",
    "# Get the name of a lamp\n",
    "print(b.get_light(4, 'name'))"
   ]
  },
  {
   "cell_type": "code",
   "execution_count": 22,
   "metadata": {},
   "outputs": [
    {
     "data": {
      "text/plain": [
       "[[{'success': {'/lights/2/state/transitiontime': 300}},\n",
       "  {'success': {'/lights/2/state/on': True}},\n",
       "  {'success': {'/lights/2/state/bri': 254}}]]"
      ]
     },
     "execution_count": 22,
     "metadata": {},
     "output_type": "execute_result"
    }
   ],
   "source": [
    "\n",
    "# You can also use light names instead of the id\n",
    "b.get_light('Mary')\n",
    "b.set_light('Mary', 'bri', 254)\n",
    "\n",
    "# Also works with lists\n",
    "b.set_light(['Mary', 'George'], 'on', False)\n",
    "\n",
    "# The set_light method can also take a dictionary as the second argument to do more fancy stuff\n",
    "# This will turn light 1 on with a transition time of 30 seconds\n",
    "command =  {'transitiontime' : 300, 'on' : True, 'bri' : 254}\n",
    "b.set_light(2, command)"
   ]
  },
  {
   "cell_type": "code",
   "execution_count": null,
   "metadata": {},
   "outputs": [],
   "source": []
  }
 ],
 "metadata": {
  "kernelspec": {
   "display_name": "Python 3",
   "language": "python",
   "name": "python3"
  },
  "language_info": {
   "codemirror_mode": {
    "name": "ipython",
    "version": 3
   },
   "file_extension": ".py",
   "mimetype": "text/x-python",
   "name": "python",
   "nbconvert_exporter": "python",
   "pygments_lexer": "ipython3",
   "version": "3.8.3"
  }
 },
 "nbformat": 4,
 "nbformat_minor": 4
}
